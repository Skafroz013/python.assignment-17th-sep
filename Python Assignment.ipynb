{
 "cells": [
  {
   "cell_type": "code",
   "execution_count": 1,
   "id": "0b35b421-57d5-41ed-ae08-1b0ba2aeda11",
   "metadata": {},
   "outputs": [
    {
     "name": "stdout",
     "output_type": "stream",
     "text": [
      "1\n",
      "2\n",
      "3\n",
      "4\n",
      "5\n",
      "6\n",
      "7\n",
      "8\n",
      "9\n",
      "10\n"
     ]
    }
   ],
   "source": [
    "#1 Write a Python program to print numbers from 1 to 10 using a for loop.\n",
    "for i in range(1,11):\n",
    "    print(i)"
   ]
  },
  {
   "cell_type": "code",
   "execution_count": 10,
   "id": "8e96690d-e535-4a65-808b-535dac1c192a",
   "metadata": {},
   "outputs": [
    {
     "name": "stdout",
     "output_type": "stream",
     "text": [
      "1\n",
      "2\n",
      "3\n",
      "4\n",
      "5\n"
     ]
    }
   ],
   "source": [
    "#2. Explain the difference between a for loop and a while loop in Python.\n",
    "# In Python, both for and while loops are used for iteration, but they have different purposes and syntax\n",
    "#for loop: Used for iterating over a sequence (such as a list, tuple, string, or range) or any iterable object.\n",
    "#while loop: Used for executing a block of code repeatedly as long as a certain condition is true.\n",
    "numbers=[1,2,3,4,5]\n",
    "for num in numbers:\n",
    "    print(num)"
   ]
  },
  {
   "cell_type": "code",
   "execution_count": null,
   "id": "5b8c6885-9850-4d30-8056-0aac26b3e01f",
   "metadata": {},
   "outputs": [],
   "source": [
    "#While loop condition\n",
    "while condition:\n",
    "    # Code to be executed as long as the condition is true"
   ]
  },
  {
   "cell_type": "code",
   "execution_count": null,
   "id": "4d2e0d44-ae15-474a-ae46-cae16322b721",
   "metadata": {},
   "outputs": [],
   "source": [
    "#3. Write a Python program to calculate the sum of all numbers from 1 to 100 using a for loop.\n",
    "total_sum = 0\n",
    "for number in range(1,101):\n",
    "    total_sum += number\n",
    "print(\"The sum of all numbers from 1 to 100 id:\",total_sum)"
   ]
  },
  {
   "cell_type": "code",
   "execution_count": null,
   "id": "171ed474-a3b2-467e-aab2-3cd7087b76c4",
   "metadata": {},
   "outputs": [],
   "source": [
    "#4. How do you iterate through a list using a for loop in Python?\n",
    "my_list = [1,2,3,4,5]\n",
    "for item in my_list:\n",
    "    print(item)"
   ]
  },
  {
   "cell_type": "code",
   "execution_count": null,
   "id": "e119016e-87ba-4d19-a641-9fef91f68d68",
   "metadata": {},
   "outputs": [],
   "source": [
    "#5. Write a Python program to find the product of all elements in a list using a for loop.\n",
    "my_list = [1,2,3,4,5]\n",
    "product = 1\n",
    "for num in my_list:\n",
    "    product *= num\n",
    "print(\"The product of all elements:\",product)"
   ]
  },
  {
   "cell_type": "code",
   "execution_count": null,
   "id": "8a4cfdc6-0830-4b8f-97fa-000517842b4d",
   "metadata": {},
   "outputs": [],
   "source": [
    "#6. Create a Python program that prints all even numbers from 1 to 20 using a for loop.\n",
    "for num in range(1,21):\n",
    "    if num % 2== 0:\n",
    "        print(num)\n",
    "        \n",
    "        "
   ]
  },
  {
   "cell_type": "code",
   "execution_count": null,
   "id": "96542dad-ed37-472a-8422-1dd49c8fdc6d",
   "metadata": {},
   "outputs": [],
   "source": [
    "#7. Write a Python program that calculates the factorial of a number using a for loop.\n",
    "num = int(input(\"enter a non-negative integer: \"))\n",
    "factorial = 1\n",
    "if num < 0:\n",
    "    print(\"Factorial is undefined for neggative number.\")\n",
    "elif num == 0:\n",
    "    print(\"factorial of 0 is 1\")\n",
    "else:\n",
    "    for i in range(1,num + 1):\n",
    "        factorial *= i\n",
    "    print(f\"Factorial of {num} is {factorial}\")"
   ]
  },
  {
   "cell_type": "code",
   "execution_count": null,
   "id": "a03bd6a2-dc16-486f-9466-5748b10dd5cd",
   "metadata": {},
   "outputs": [],
   "source": [
    "#8. How can you iterate through the characters of a string using a for loop in Python?\n",
    "my_string = \"hello world\"\n",
    "for char in my_string:\n",
    "    print(char)"
   ]
  },
  {
   "cell_type": "code",
   "execution_count": null,
   "id": "5d0617a1-83de-451b-abd1-d7066ef212e8",
   "metadata": {},
   "outputs": [],
   "source": [
    "#9. Write a Python program to find the largest number in a list using a for loop.\n",
    "my_list = [10,20,30,40]\n",
    "max_num = my_list[0]\n",
    "for num in my_list:\n",
    "    if num > max_num:\n",
    "        max_num = num\n",
    "print(\"The largest number is:\",max_num)"
   ]
  },
  {
   "cell_type": "code",
   "execution_count": null,
   "id": "bd5535e2-a825-4495-8328-391751eed609",
   "metadata": {},
   "outputs": [],
   "source": [
    "#10. Create a Python program that prints the Fibonacci sequence up to a specified limit using a for loop\n",
    "def fibonacci(limit):\n",
    "    a,b = 0,1\n",
    "    while a <= limit:\n",
    "        print(a, end = \" \")\n",
    "        a, b =b, a + b\n",
    "limit = int(input(\"enter the limit for the Fibonacci sequence: \"))\n",
    "fibonacci(limit)"
   ]
  },
  {
   "cell_type": "code",
   "execution_count": null,
   "id": "0aa179a2-a194-4ad8-9399-d70feecacb9f",
   "metadata": {},
   "outputs": [],
   "source": [
    "#11. Write a Python program to count the number of vowels in a given string using a for loop.\n",
    "# Function to count vowels in a string\n",
    "def count_vowels(input_string):\n",
    "    # Initialize a variable to keep track of the count\n",
    "    count = 0\n",
    "    \n",
    "    # Define a string containing all vowels\n",
    "    vowels = \"AEIOUaeiou\"\n",
    "    \n",
    "    # Iterate through the characters in the input string\n",
    "    for char in input_string:\n",
    "        if char in vowels:\n",
    "            count += 1\n",
    "\n",
    "    return count\n",
    "input_string = input(\"Enter a string: \")\n",
    "vowel_count = count_vowels(input_string)\n",
    "print(f\"Number of vowels in the string: {vowel_count}\")\n"
   ]
  },
  {
   "cell_type": "code",
   "execution_count": null,
   "id": "10e1fcd1-bdc3-4cd3-83ab-a18c3691ecc6",
   "metadata": {},
   "outputs": [],
   "source": [
    "#12. Create a Python program that generates a multiplication table for a given number using a for\n",
    "number = int(input(\"Enter a number:\"))\n",
    "start = 1\n",
    "end = 10\n",
    "print(f\"Multiplication table for {number}:\")\n",
    "for i in range(start,end+1):\n",
    "    result = number * i\n",
    "    print(f\"{number} * {i} ={result}\")"
   ]
  },
  {
   "cell_type": "code",
   "execution_count": 2,
   "id": "65a94842-c785-49dd-a226-090a34696810",
   "metadata": {},
   "outputs": [
    {
     "name": "stdout",
     "output_type": "stream",
     "text": [
      "Reversed list: [3, 7, 5, 4, 2]\n"
     ]
    }
   ],
   "source": [
    "#13 Python program to reverse a list using a for loop\n",
    "\n",
    "original_list=[2,4,5,7,3]\n",
    "reversed_list = []\n",
    "for i in range(len(original_list) - 1, -1, -1):\n",
    "    reversed_list.append(original_list[i])\n",
    "print(\"Reversed list:\", reversed_list)"
   ]
  },
  {
   "cell_type": "code",
   "execution_count": 6,
   "id": "074ac64b-efa2-4a46-9054-a77500aba1c7",
   "metadata": {},
   "outputs": [
    {
     "name": "stdout",
     "output_type": "stream",
     "text": [
      "Common elements : [5, 1, 0]\n"
     ]
    }
   ],
   "source": [
    "#14 Python program to find the common elements between two lists using a for loop\n",
    "\n",
    "list1=[2,4,5,1,0,8]\n",
    "list2=[3,5,6,9,0,1]\n",
    "common_ele=[]\n",
    "for i in list1:\n",
    "    if i in list2:\n",
    "        common_ele.append(i)\n",
    "print(\"Common elements :\",common_ele)"
   ]
  },
  {
   "cell_type": "code",
   "execution_count": 7,
   "id": "2ec1b962-3767-4402-b9fb-fe3d588a9a16",
   "metadata": {},
   "outputs": [
    {
     "name": "stdout",
     "output_type": "stream",
     "text": [
      "Key:  a Value:  1\n",
      "Key:  b Value:  2\n",
      "Key:  c Value:  3\n"
     ]
    }
   ],
   "source": [
    "#15 Explain how to use a for loop to iterate through the keys and values of a dictionary in Python\n",
    "\n",
    "my_dict = {'a': 1, 'b': 2, 'c': 3}\n",
    "for key, value in my_dict.items():\n",
    "    print(\"Key: \" ,key, \"Value: \",value)"
   ]
  },
  {
   "cell_type": "code",
   "execution_count": 8,
   "id": "508079a0-64e4-416a-a802-426bad564a8c",
   "metadata": {},
   "outputs": [
    {
     "name": "stdout",
     "output_type": "stream",
     "text": [
      "GCD of 50 and 100 is: 50\n"
     ]
    }
   ],
   "source": [
    "#16 a Python program to find the GCD (Greatest Common Divisor) of two numbers using a for loop.\n",
    "\n",
    "x = 50\n",
    "y = 100\n",
    "if x > y:\n",
    "  x, y = y, x\n",
    "for i in range(1,x+1):\n",
    "  if x%i == 0 and y%i == 0:\n",
    "    gcd = i\n",
    "print(\"GCD of\", x, \"and\", y, \"is:\", gcd)"
   ]
  },
  {
   "cell_type": "code",
   "execution_count": 11,
   "id": "a7523a99-7ae6-49c3-bc71-4b9ed3d8ec76",
   "metadata": {},
   "outputs": [
    {
     "name": "stdin",
     "output_type": "stream",
     "text": [
      "Enter string : racecar\n"
     ]
    },
    {
     "name": "stdout",
     "output_type": "stream",
     "text": [
      "The entered string is a palindrome.\n"
     ]
    }
   ],
   "source": [
    "# 17 Python program that checks if a string is a palindrome using a for loop\n",
    "\n",
    "input_str=input(\"Enter string :\")\n",
    "input_str = input_str.lower()\n",
    "is_palindrome = True\n",
    "for i in range(len(input_str) // 2):\n",
    "    if input_str[i] != input_str[-(i + 1)]:\n",
    "        is_palindrome = False\n",
    "        break\n",
    "if is_palindrome:\n",
    "    print(\"The entered string is a palindrome.\")\n",
    "else:\n",
    "    print(\"The entered string is not a palindrome.\")"
   ]
  },
  {
   "cell_type": "code",
   "execution_count": 12,
   "id": "a82e8cd0-861b-4c97-a66f-c6507f18b7fc",
   "metadata": {},
   "outputs": [
    {
     "name": "stdout",
     "output_type": "stream",
     "text": [
      "List with duplicates removed: [1, 2, 3, 4, 5, 6]\n"
     ]
    }
   ],
   "source": [
    "#18 Python program to remove duplicates from a list using a for loop\n",
    "\n",
    "input_list = [1, 2, 2, 3, 4, 4, 5, 5, 6]\n",
    "unique_list = []\n",
    "for i in input_list:\n",
    "    if i not in unique_list:\n",
    "        unique_list.append(i)\n",
    "print(\"List with duplicates removed:\", unique_list)"
   ]
  },
  {
   "cell_type": "code",
   "execution_count": 13,
   "id": "4e9f94f5-4258-42e4-9ffb-e3abeceb5112",
   "metadata": {},
   "outputs": [
    {
     "name": "stdin",
     "output_type": "stream",
     "text": [
      "Enter a sentence:  This is AfroZ\n"
     ]
    },
    {
     "name": "stdout",
     "output_type": "stream",
     "text": [
      "Number of words in the sentence: 3\n"
     ]
    }
   ],
   "source": [
    "# 19 Python program that counts the number of words in a sentence using a for loop\n",
    "\n",
    "sentence = input(\"Enter a sentence: \")\n",
    "word_count = 0\n",
    "words = sentence.split()\n",
    "for word in words:\n",
    "    word_count += 1\n",
    "print(\"Number of words in the sentence:\", word_count)"
   ]
  },
  {
   "cell_type": "code",
   "execution_count": 14,
   "id": "9c622cad-e6e2-4f62-a603-a3dc9161d134",
   "metadata": {},
   "outputs": [
    {
     "name": "stdout",
     "output_type": "stream",
     "text": [
      "50\n"
     ]
    }
   ],
   "source": [
    "# 20 Python program to find the sum of all odd numbers from 1 to 50 using a for loop\n",
    "odd_sum=0\n",
    "for i in range(1,51):\n",
    "    if i%2 !=0:\n",
    "        odd_sum+=i\n",
    "print(i)        "
   ]
  },
  {
   "cell_type": "code",
   "execution_count": 15,
   "id": "1cb734d1-bb1f-4c6b-b3a7-34e084a62a46",
   "metadata": {
    "tags": []
   },
   "outputs": [
    {
     "name": "stdin",
     "output_type": "stream",
     "text": [
      "Enter year : 2019\n"
     ]
    },
    {
     "name": "stdout",
     "output_type": "stream",
     "text": [
      "2019 is not a leap year\n"
     ]
    }
   ],
   "source": [
    "# 21 Python program that checks if a given year is a leap year using a for loop\n",
    "\n",
    "year=int(input(\"Enter year :\"))\n",
    "is_leap_year=False\n",
    "for i in range(4,year+1,4):\n",
    "    if y==year:\n",
    "        is_leap_year=True\n",
    "        break\n",
    "if is_leap_year:\n",
    "    print(year,\"is a leap year\")\n",
    "else:\n",
    "    print(year,\"is not a leap year\")"
   ]
  },
  {
   "cell_type": "code",
   "execution_count": 17,
   "id": "d4ff070f-461f-41ae-ac47-57cca52c6c5a",
   "metadata": {},
   "outputs": [
    {
     "name": "stdin",
     "output_type": "stream",
     "text": [
      "Enter a number:  169\n"
     ]
    },
    {
     "name": "stdout",
     "output_type": "stream",
     "text": [
      "Square root of 169.0 is approximately 13.0\n"
     ]
    }
   ],
   "source": [
    "# 22 Python program that calculates the square root of a number using a for loop\n",
    "\n",
    "num = float(input(\"Enter a number: \"))\n",
    "guess = num / 2.0\n",
    "iterations = 10\n",
    "for _ in range(iterations):\n",
    "    guess = (guess + num / guess) / 2.0\n",
    "print(f\"Square root of {num} is approximately {guess}\")"
   ]
  },
  {
   "cell_type": "code",
   "execution_count": 18,
   "id": "1fc9fcb2-aa6a-480c-aa30-d4ea946be231",
   "metadata": {},
   "outputs": [
    {
     "name": "stdin",
     "output_type": "stream",
     "text": [
      "Enter the first number:  6\n",
      "Enter the second number:  8\n"
     ]
    },
    {
     "name": "stdout",
     "output_type": "stream",
     "text": [
      "Least Common Multiple (LCM) = 24\n"
     ]
    }
   ],
   "source": [
    "# 23 Python program to find the LCM (Least Common Multiple) of two numbers using a for loop\n",
    "\n",
    "num1 = int(input(\"Enter the first number: \"))\n",
    "num2 = int(input(\"Enter the second number: \"))\n",
    "max_num = max(num1, num2)\n",
    "for lcm in range(max_num, (num1 * num2) + 1, max_num):\n",
    "    if lcm % num1 == 0 and lcm % num2 == 0:\n",
    "        break\n",
    "print(\"Least Common Multiple (LCM) =\", lcm)"
   ]
  },
  {
   "cell_type": "code",
   "execution_count": null,
   "id": "e28840ec-87f5-450d-85b0-dfd253152b89",
   "metadata": {},
   "outputs": [],
   "source": [
    "#If else\n"
   ]
  },
  {
   "cell_type": "code",
   "execution_count": 19,
   "id": "126c0f12-2631-4bc6-afaa-3b4d03340c30",
   "metadata": {},
   "outputs": [
    {
     "name": "stdin",
     "output_type": "stream",
     "text": [
      "Enter a number:  7\n"
     ]
    },
    {
     "name": "stdout",
     "output_type": "stream",
     "text": [
      "The number is positive\n"
     ]
    }
   ],
   "source": [
    "#1) Write a Python program to check if a number is positive, negative, or zero using an if-else\n",
    "num= int(input(\"Enter a number: \"))\n",
    "if num >0:\n",
    "    print(\"The number is positive\")\n",
    "else:\n",
    "    print(\"The number is negative\")"
   ]
  },
  {
   "cell_type": "code",
   "execution_count": 20,
   "id": "61f70b89-36e6-403b-9309-3f6bd1381848",
   "metadata": {},
   "outputs": [
    {
     "name": "stdin",
     "output_type": "stream",
     "text": [
      "Enter a number 9\n"
     ]
    },
    {
     "name": "stdout",
     "output_type": "stream",
     "text": [
      "The number is odd\n"
     ]
    }
   ],
   "source": [
    "#2)Write a Python program to check if a number is positive, negative, or zero using an if-else statements\n",
    "num = int(input(\"Enter a number\"))\n",
    "if num % 2 == 0:\n",
    "    print(\"The number if even\")\n",
    "else:\n",
    "    print(\"The number is odd\")"
   ]
  },
  {
   "cell_type": "code",
   "execution_count": 1,
   "id": "29dc8546-228d-4c94-9fd2-53b232c0ac77",
   "metadata": {},
   "outputs": [
    {
     "name": "stdin",
     "output_type": "stream",
     "text": [
      "Enter your age :  9\n"
     ]
    },
    {
     "name": "stdout",
     "output_type": "stream",
     "text": [
      "you are a kid\n"
     ]
    }
   ],
   "source": [
    "#3. How can you use nested if-else statements in Python, and provide an example?\n",
    "age = int(input(\"Enter your age : \"))\n",
    "if age >= 18:\n",
    "    print(\"You are an adult\")\n",
    "    if age >= 21:\n",
    "        print(\"you are eligible to job\")\n",
    "    else:\n",
    "        print(\"you are not eligible for job , but you are an adult\")\n",
    "else:\n",
    "    print(\"you are a kid\")"
   ]
  },
  {
   "cell_type": "code",
   "execution_count": 4,
   "id": "885b087a-ee7c-4005-81fa-41e515b5bde1",
   "metadata": {},
   "outputs": [
    {
     "name": "stdin",
     "output_type": "stream",
     "text": [
      "Enter first number:  3\n",
      "Enter secoond number:  4\n",
      "Enter third number:  5\n"
     ]
    },
    {
     "name": "stdout",
     "output_type": "stream",
     "text": [
      "The largest number is: 5\n"
     ]
    }
   ],
   "source": [
    "# 4. Write a Python program to determine the largest of three numbers using if-else.\n",
    "num1 = int(input(\"Enter first number: \"))\n",
    "num2 = int(input(\"Enter secoond number: \"))\n",
    "num3 = int(input(\"Enter third number: \"))\n",
    "if num1 > num2 and num1 >= num3:\n",
    "    largest = num1\n",
    "elif num2 >= num1 and num2 >= num3:\n",
    "    largest = num2\n",
    "else:\n",
    "    largest = num3\n",
    "print(f\"The largest number is: {largest}\")"
   ]
  },
  {
   "cell_type": "code",
   "execution_count": 5,
   "id": "dfe63fd4-01b6-4d8d-a7a5-f4121088b7bb",
   "metadata": {},
   "outputs": [
    {
     "name": "stdin",
     "output_type": "stream",
     "text": [
      "Enter a number:  9.10\n"
     ]
    },
    {
     "name": "stdout",
     "output_type": "stream",
     "text": [
      "The absolute value of 9.1 is 9.1\n"
     ]
    }
   ],
   "source": [
    "#5. Write a Python program that calculates the absolute value of a number using if-else.\n",
    "num = float(input(\"Enter a number: \"))\n",
    "if num < 0:\n",
    "    absolute_value = -num\n",
    "else:\n",
    "    absolute_value = num\n",
    "print(f\"The absolute value of {num} is {absolute_value}\")"
   ]
  },
  {
   "cell_type": "code",
   "execution_count": 6,
   "id": "0b1bc126-b366-4b87-b95a-c88818dc756b",
   "metadata": {},
   "outputs": [
    {
     "name": "stdin",
     "output_type": "stream",
     "text": [
      "Enter a character:  l\n"
     ]
    },
    {
     "name": "stdout",
     "output_type": "stream",
     "text": [
      "l is a consonant.\n"
     ]
    }
   ],
   "source": [
    "#6. Create a Python program that checks if a given character is a vowel or consonant using if-else.\n",
    "char = input(\"Enter a character: \")\n",
    "if len(char) == 1:\n",
    "    char = char.lower()\n",
    "    if char == 'a' or char == 'e' or char == 'i' or char == 'o' or char == 'u':\n",
    "        print(f\"{char} is a vowel.\")\n",
    "    else:\n",
    "        print(f\"{char} is a consonant.\")\n",
    "else:\n",
    "    print(\"Please enter a single character.\")\n"
   ]
  },
  {
   "cell_type": "code",
   "execution_count": 7,
   "id": "8b8da5e6-61c7-44c8-889b-f6da6ef2878d",
   "metadata": {},
   "outputs": [
    {
     "name": "stdin",
     "output_type": "stream",
     "text": [
      "Enter user age : 19\n"
     ]
    },
    {
     "name": "stdout",
     "output_type": "stream",
     "text": [
      "user is eligible to vote\n"
     ]
    }
   ],
   "source": [
    "#7. Write a Python program to determine if a user is eligible to vote based on their age using if-else.\n",
    "age = int(input(\"Enter user age :\"))\n",
    "if age>18:\n",
    "    print(\"user is eligible to vote\")\n",
    "else:\n",
    "    print(\"user is not eligible to vote\")"
   ]
  },
  {
   "cell_type": "code",
   "execution_count": 8,
   "id": "047536df-4f11-4156-9ce7-5fc6c15dd2a8",
   "metadata": {},
   "outputs": [
    {
     "name": "stdin",
     "output_type": "stream",
     "text": [
      "Enter the purchase amount:  900\n"
     ]
    },
    {
     "name": "stdout",
     "output_type": "stream",
     "text": [
      "Discount amount: $180.00\n",
      "Total amount after discount: $720.00\n"
     ]
    }
   ],
   "source": [
    "#8. Create a Python program that calculates the discount amount based on the purchase amount using if else\n",
    "purchase_amount = float(input(\"Enter the purchase amount: \"))\n",
    "discount_rate_10 = 0.10  \n",
    "discount_rate_20 = 0.20  \n",
    "discount_rate_30 = 0.30  \n",
    "discount_amount = 0.0\n",
    "total_amount = 0.0\n",
    "if purchase_amount >= 1000:\n",
    "    discount_amount = purchase_amount * discount_rate_30\n",
    "elif purchase_amount >= 500:\n",
    "    discount_amount = purchase_amount * discount_rate_20\n",
    "elif purchase_amount >= 100:\n",
    "    discount_amount = purchase_amount * discount_rate_10\n",
    "total_amount = purchase_amount - discount_amount\n",
    "print(f\"Discount amount: ${discount_amount:.2f}\")\n",
    "print(f\"Total amount after discount: ${total_amount:.2f}\")\n"
   ]
  },
  {
   "cell_type": "code",
   "execution_count": 9,
   "id": "6aadc441-14c3-4270-bdd1-4e0204b4e5a6",
   "metadata": {},
   "outputs": [
    {
     "name": "stdin",
     "output_type": "stream",
     "text": [
      "Enter a number:  69\n"
     ]
    },
    {
     "name": "stdout",
     "output_type": "stream",
     "text": [
      "69.0 is not within range [10, 50].\n"
     ]
    }
   ],
   "source": [
    "#9. Write a Python program to check if a number is within a specified range using if-else.\n",
    "start_range = 10\n",
    "end_range = 50\n",
    "number = float(input(\"Enter a number: \"))\n",
    "if number >= start_range and number <= end_range:\n",
    "    print(f\"{number} is within range [{start_range}, {end_range}].\")\n",
    "else:\n",
    "    print(f\"{number} is not within range [{start_range}, {end_range}].\")"
   ]
  },
  {
   "cell_type": "code",
   "execution_count": 10,
   "id": "91129d25-8053-44d8-8770-cbf7d901d71d",
   "metadata": {},
   "outputs": [
    {
     "name": "stdin",
     "output_type": "stream",
     "text": [
      "Enter the student's score:  99\n"
     ]
    },
    {
     "name": "stdout",
     "output_type": "stream",
     "text": [
      "The student's grade is: A\n"
     ]
    }
   ],
   "source": [
    "#10. Create a Python program that determines the grade of a student based on their score using if-else\n",
    "score = float(input(\"Enter the student's score: \"))\n",
    "if score >= 90:\n",
    "    grade = \"A\"\n",
    "elif score >= 80:\n",
    "    grade = \"B\"\n",
    "elif score >= 70:\n",
    "    grade = \"C\"\n",
    "elif score >= 60:\n",
    "    grade = \"D\"\n",
    "else:\n",
    "    grade = \"F\"\n",
    "\n",
    "# Display the grade\n",
    "print(f\"The student's grade is: {grade}\")\n"
   ]
  },
  {
   "cell_type": "code",
   "execution_count": 12,
   "id": "cbac66f2-0e3e-4c08-a1fb-94e7b34b5f52",
   "metadata": {},
   "outputs": [
    {
     "name": "stdin",
     "output_type": "stream",
     "text": [
      "Enter the string likki\n"
     ]
    },
    {
     "name": "stdout",
     "output_type": "stream",
     "text": [
      "String is not empty\n"
     ]
    }
   ],
   "source": [
    "#11. Write a Python program to check if a string is empty or not using if-else.\n",
    "my_string = input(\"Enter the string\")\n",
    "if len(my_string) == 0:\n",
    "    print(\"String is empty\")\n",
    "else:\n",
    "    print(\"String is not empty\")"
   ]
  },
  {
   "cell_type": "code",
   "execution_count": 21,
   "id": "df494d18-3b06-41e7-af48-3f33003e72ff",
   "metadata": {},
   "outputs": [
    {
     "name": "stdin",
     "output_type": "stream",
     "text": [
      "Enter the length of side 1:  8\n",
      "Enter the length of side 2:  9\n",
      "Enter the length of side 3:  8\n"
     ]
    },
    {
     "name": "stdout",
     "output_type": "stream",
     "text": [
      "The triangle is isosceles.\n"
     ]
    }
   ],
   "source": [
    "#12.Create a Python program that identifies the type of a triangle (e.g., equilateral, isosceles, or scalene) based on input values using if-else.\n",
    "side1 = float(input(\"Enter the length of side 1: \"))\n",
    "side2 = float(input(\"Enter the length of side 2: \"))\n",
    "side3 = float(input(\"Enter the length of side 3: \"))\n",
    "\n",
    "# Check if the input forms a valid triangle\n",
    "if side1 + side2 > side3 and side1 + side3 > side2 and side2 + side3 > side1:\n",
    "    # Determine the type of triangle based on side lengths using if-else\n",
    "    if side1 == side2 == side3:\n",
    "        triangle_type = \"equilateral\"\n",
    "    elif side1 == side2 or side1 == side3 or side2 == side3:\n",
    "        triangle_type = \"isosceles\"\n",
    "    else:\n",
    "        triangle_type = \"scalene\"\n",
    "\n",
    "    # Display the type of triangle\n",
    "    print(f\"The triangle is {triangle_type}.\")\n",
    "else:\n",
    "    print(\"The input does not form a valid triangle.\")\n"
   ]
  },
  {
   "cell_type": "code",
   "execution_count": 22,
   "id": "fa16d24d-51a4-48e3-84b5-955b91f7aafd",
   "metadata": {},
   "outputs": [
    {
     "name": "stdin",
     "output_type": "stream",
     "text": [
      "Enter number : 4\n"
     ]
    },
    {
     "name": "stdout",
     "output_type": "stream",
     "text": [
      "The day of the week is  Wednesday\n"
     ]
    }
   ],
   "source": [
    "# 13 Python program to determine the day of the week based on a user-provided number using if-else.\n",
    "\n",
    "num=int(input(\"Enter number :\"))\n",
    "if num==1:\n",
    "    day_name=\"Sunday\"\n",
    "elif num==2:\n",
    "    day_name=\"Monday\"\n",
    "elif num==3:\n",
    "    day_name=\"Tuesday\"\n",
    "elif num==4:\n",
    "    day_name=\"Wednesday\"\n",
    "elif num==5:\n",
    "    day_name=\"Thursday\"\n",
    "elif num==6:\n",
    "    day_name=\"Friday\"\n",
    "elif num==7:\n",
    "    day_name=\"Saturday\"\n",
    "else:\n",
    "    print(\"Invalid input,enter valid number\")\n",
    "print(\"The day of the week is \",day_name)"
   ]
  },
  {
   "cell_type": "code",
   "execution_count": 23,
   "id": "8b838e39-446a-40dc-a701-ebdada45b2ab",
   "metadata": {},
   "outputs": [
    {
     "name": "stdin",
     "output_type": "stream",
     "text": [
      "Enter a year:  2020\n"
     ]
    },
    {
     "name": "stdout",
     "output_type": "stream",
     "text": [
      "2020 is a leap year.\n"
     ]
    }
   ],
   "source": [
    "# 14 Python program that checks if a given year is a leap year using both if-else and a function.\n",
    "\n",
    "def is_leap_year(year):\n",
    "    if (year % 4 == 0 and year % 100 != 0) or (year % 400 == 0):\n",
    "        return True\n",
    "    else:\n",
    "        return False\n",
    "year = int(input(\"Enter a year: \"))\n",
    "if is_leap_year(year):\n",
    "    print(f\"{year} is a leap year.\")\n",
    "else:\n",
    "    print(f\"{year} is not a leap year.\")"
   ]
  },
  {
   "cell_type": "code",
   "execution_count": 1,
   "id": "61ea77a6-7036-4e50-8468-b9292a3c1104",
   "metadata": {},
   "outputs": [
    {
     "name": "stdout",
     "output_type": "stream",
     "text": [
      "Number is positive\n"
     ]
    },
    {
     "ename": "AssertionError",
     "evalue": "AssertionError: Number is not positive",
     "output_type": "error",
     "traceback": [
      "\u001b[0;31m---------------------------------------------------------------------------\u001b[0m",
      "\u001b[0;31mAssertionError\u001b[0m                            Traceback (most recent call last)",
      "Cell \u001b[0;32mIn[1], line 14\u001b[0m\n\u001b[1;32m     12\u001b[0m result1 \u001b[38;5;241m=\u001b[39m check_positive_number(num1)\n\u001b[1;32m     13\u001b[0m \u001b[38;5;28mprint\u001b[39m(result1)\n\u001b[0;32m---> 14\u001b[0m result2 \u001b[38;5;241m=\u001b[39m \u001b[43mcheck_positive_number\u001b[49m\u001b[43m(\u001b[49m\u001b[43mnum2\u001b[49m\u001b[43m)\u001b[49m\n\u001b[1;32m     15\u001b[0m \u001b[38;5;28mprint\u001b[39m(result2)\n",
      "Cell \u001b[0;32mIn[1], line 8\u001b[0m, in \u001b[0;36mcheck_positive_number\u001b[0;34m(num)\u001b[0m\n\u001b[1;32m      6\u001b[0m \u001b[38;5;28;01melse\u001b[39;00m:\n\u001b[1;32m      7\u001b[0m     result \u001b[38;5;241m=\u001b[39m \u001b[38;5;124m\"\u001b[39m\u001b[38;5;124mNumber is not positive\u001b[39m\u001b[38;5;124m\"\u001b[39m\n\u001b[0;32m----> 8\u001b[0m \u001b[38;5;28;01massert\u001b[39;00m num \u001b[38;5;241m>\u001b[39m\u001b[38;5;241m=\u001b[39m \u001b[38;5;241m0\u001b[39m, \u001b[38;5;124m\"\u001b[39m\u001b[38;5;124mAssertionError: Number is not positive\u001b[39m\u001b[38;5;124m\"\u001b[39m\n\u001b[1;32m      9\u001b[0m \u001b[38;5;28;01mreturn\u001b[39;00m result\n",
      "\u001b[0;31mAssertionError\u001b[0m: AssertionError: Number is not positive"
     ]
    }
   ],
   "source": [
    "# 15 How do you use the \"assert\" statement in Python to add debugging checks within if-else blocks?\n",
    "\n",
    "def check_positive_number(num):\n",
    "    if num >= 0:\n",
    "        result = \"Number is positive\"\n",
    "    else:\n",
    "        result = \"Number is not positive\"\n",
    "    assert num >= 0, \"AssertionError: Number is not positive\"\n",
    "    return result\n",
    "num1 = 5\n",
    "num2 = -2\n",
    "result1 = check_positive_number(num1)\n",
    "print(result1)\n",
    "result2 = check_positive_number(num2)\n",
    "print(result2)"
   ]
  },
  {
   "cell_type": "code",
   "execution_count": 25,
   "id": "31dd71a3-837b-48e2-974b-9f96d633c6ce",
   "metadata": {},
   "outputs": [
    {
     "name": "stdin",
     "output_type": "stream",
     "text": [
      "Enter your age:  67\n"
     ]
    },
    {
     "name": "stdout",
     "output_type": "stream",
     "text": [
      "You are eligible for a senior citizen discount.\n"
     ]
    }
   ],
   "source": [
    "#16 Python program that determines the eligibility of a person for a senior citizen discount based on age using if-else.\n",
    "\n",
    "age = int(input(\"Enter your age: \"))\n",
    "senior_citizen_age = 60\n",
    "if age >= senior_citizen_age:\n",
    "    print(\"You are eligible for a senior citizen discount.\")\n",
    "else:\n",
    "    print(\"You are not eligible for a senior citizen discount.\")"
   ]
  },
  {
   "cell_type": "code",
   "execution_count": 27,
   "id": "98a9ed9b-5827-46f1-b449-be9861bb7bfa",
   "metadata": {},
   "outputs": [
    {
     "name": "stdin",
     "output_type": "stream",
     "text": [
      "Enter a character:  J\n"
     ]
    },
    {
     "name": "stdout",
     "output_type": "stream",
     "text": [
      "The character 'J' is categorized as: Uppercase\n"
     ]
    }
   ],
   "source": [
    "# 17 Python program to categorize a given character as uppercase, lowercase, or neither using if-else\n",
    "\n",
    "character = input(\"Enter a character: \")\n",
    "if len(character) == 1:\n",
    "    if character.isupper():\n",
    "        category = \"Uppercase\"\n",
    "    elif character.islower():\n",
    "        category = \"Lowercase\"\n",
    "    else:\n",
    "        category = \"Neither uppercase nor lowercase\"\n",
    "else:\n",
    "    category = \"Input is not a single character\"\n",
    "print(f\"The character '{character}' is categorized as: {category}\")"
   ]
  },
  {
   "cell_type": "code",
   "execution_count": 28,
   "id": "8e017c8d-7f98-49c9-b661-41ebcdd18125",
   "metadata": {},
   "outputs": [
    {
     "name": "stdin",
     "output_type": "stream",
     "text": [
      "Enter coefficient 'a':  6\n",
      "Enter coefficient 'b':  9\n",
      "Enter coefficient 'c':  7\n"
     ]
    },
    {
     "name": "stdout",
     "output_type": "stream",
     "text": [
      "Roots are complex: Root1 = -0.75 + 0.7772815877574013i, Root2 = -0.75 - 0.7772815877574013i\n"
     ]
    }
   ],
   "source": [
    "# 18 Python program to determine the roots of a quadratic equation using if-else.\n",
    "\n",
    "a = float(input(\"Enter coefficient 'a': \"))\n",
    "b = float(input(\"Enter coefficient 'b': \"))\n",
    "c = float(input(\"Enter coefficient 'c': \"))\n",
    "discriminant = b**2 - 4*a*c\n",
    "if discriminant > 0:\n",
    "    root1 = (-b + discriminant**0.5) / (2*a)\n",
    "    root2 = (-b - discriminant**0.5) / (2*a)\n",
    "    print(f\"Roots are real and different: Root1 = {root1}, Root2 = {root2}\")\n",
    "elif discriminant == 0:\n",
    "    root1 = -b / (2*a)\n",
    "    print(f\"Roots are real and identical: Root1 = Root2 = {root1}\")\n",
    "else:\n",
    "    real_part = -b / (2*a)\n",
    "    imaginary_part = (-discriminant)**0.5 / (2*a)\n",
    "    print(f\"Roots are complex: Root1 = {real_part} + {imaginary_part}i, Root2 = {real_part} - {imaginary_part}i\")"
   ]
  },
  {
   "cell_type": "code",
   "execution_count": 29,
   "id": "69ec1bae-98df-44ad-beaf-1bfa67721770",
   "metadata": {},
   "outputs": [
    {
     "name": "stdin",
     "output_type": "stream",
     "text": [
      "Enter a year:  2020\n"
     ]
    },
    {
     "name": "stdout",
     "output_type": "stream",
     "text": [
      "2020 is not a century year.\n"
     ]
    }
   ],
   "source": [
    "#19 Python program that checks if a given year is a century year or not using if-else\n",
    "\n",
    "year = int(input(\"Enter a year: \"))\n",
    "if year % 100 == 0:\n",
    "    print(f\"{year} is a century year.\")\n",
    "else:\n",
    "    print(f\"{year} is not a century year.\")"
   ]
  },
  {
   "cell_type": "code",
   "execution_count": 30,
   "id": "4903ae3a-431f-4ea2-b930-fc47f5d92aba",
   "metadata": {},
   "outputs": [
    {
     "name": "stdin",
     "output_type": "stream",
     "text": [
      "Enter a number:  96\n"
     ]
    },
    {
     "name": "stdout",
     "output_type": "stream",
     "text": [
      "96 is not a perfect square.\n"
     ]
    }
   ],
   "source": [
    "#20 Python program to determine if a given number is a perfect square using if-else.\n",
    "\n",
    "number = int(input(\"Enter a number: \"))\n",
    "square_root = number**0.5\n",
    "if square_root.is_integer() and number >= 0:\n",
    "    print(f\"{number} is a perfect square.\")\n",
    "else:\n",
    "    print(f\"{number} is not a perfect square.\")"
   ]
  },
  {
   "cell_type": "code",
   "execution_count": 32,
   "id": "cc07a814-046c-4b93-976e-a49e2e4f4806",
   "metadata": {},
   "outputs": [
    {
     "name": "stdout",
     "output_type": "stream",
     "text": [
      "1\n",
      "2\n",
      "4\n",
      "5\n",
      "1\n",
      "2\n"
     ]
    }
   ],
   "source": [
    "#21 Explain the purpose of the \"continue\" and \"break\" statements within if-else loops\n",
    "\n",
    "#continue\n",
    "for i in range(1, 6):\n",
    "    if i == 3:\n",
    "        continue  # Skip iteration when i equals 3\n",
    "    print(i)\n",
    "\n",
    "#break\n",
    "    i = 1\n",
    "while i <= 5:\n",
    "    if i == 3:\n",
    "        break  # Exit the loop when i equals 3\n",
    "    print(i)\n",
    "    i += 1\n"
   ]
  },
  {
   "cell_type": "code",
   "execution_count": 33,
   "id": "f0dd57ce-9c51-4fb5-9cd6-e4035d62f1ea",
   "metadata": {},
   "outputs": [
    {
     "name": "stdin",
     "output_type": "stream",
     "text": [
      "Enter your weight in kilograms:  56\n",
      "Enter your height in meters:  1.6\n"
     ]
    },
    {
     "name": "stdout",
     "output_type": "stream",
     "text": [
      "Your BMI is 21.87, and you are categorized as 'Normal weight'.\n"
     ]
    }
   ],
   "source": [
    "# 22 Python program that calculates the BMI (Body Mass Index) of a person based on their weight and height using if-else\n",
    "\n",
    "weight_kg = float(input(\"Enter your weight in kilograms: \"))\n",
    "height_m = float(input(\"Enter your height in meters: \"))\n",
    "bmi = weight_kg / (height_m ** 2)\n",
    "if bmi < 18.5:\n",
    "    category = \"Underweight\"\n",
    "elif 18.5 <= bmi < 24.9:\n",
    "    category = \"Normal weight\"\n",
    "elif 25 <= bmi < 29.9:\n",
    "    category = \"Overweight\"\n",
    "else:\n",
    "    category = \"Obese\"\n",
    "print(f\"Your BMI is {bmi:.2f}, and you are categorized as '{category}'.\")"
   ]
  },
  {
   "cell_type": "code",
   "execution_count": 2,
   "id": "d70cc377-d781-475f-9aae-50c52217c8d6",
   "metadata": {},
   "outputs": [
    {
     "name": "stdout",
     "output_type": "stream",
     "text": [
      "Even numbers: [2, 4, 6, 8, 10]\n",
      "odd  numbers: [1, 3, 5, 7, 9]\n"
     ]
    }
   ],
   "source": [
    "#23 How can you use the \"filter()\" function with if-else statements to filter elements from a list?\n",
    "numbers = [1,2,3,4,5,6,7,8,9,10]\n",
    "def is_even(number):\n",
    "    return number % 2 == 0\n",
    "even_numbers = filter(lambda x: is_even(x), numbers)\n",
    "odd_numbers = filter(lambda x: not is_even(x), numbers)\n",
    "even_numbers_list = list(even_numbers)\n",
    "odd_numbers_list = list(odd_numbers)\n",
    "print(\"Even numbers:\",even_numbers_list)\n",
    "print(\"odd  numbers:\",odd_numbers_list)"
   ]
  },
  {
   "cell_type": "code",
   "execution_count": 38,
   "id": "0ea3c754-ea37-4411-9c29-e42e5e296334",
   "metadata": {},
   "outputs": [
    {
     "name": "stdin",
     "output_type": "stream",
     "text": [
      "Enter a number:  7\n"
     ]
    },
    {
     "name": "stdout",
     "output_type": "stream",
     "text": [
      "7 is a prime number.\n"
     ]
    }
   ],
   "source": [
    "#24 Python program to determine if a given number is prime or not using if-else\n",
    "\n",
    "number = int(input(\"Enter a number: \"))\n",
    "if number > 1:\n",
    "    for i in range(2, int(number ** 0.5) + 1):\n",
    "        if (number % i) == 0:\n",
    "            print(f\"{number} is not a prime number.\")\n",
    "            break\n",
    "    else:\n",
    "        print(f\"{number} is a prime number.\")\n",
    "else:\n",
    "    print(f\"{number} is not a prime number.\")"
   ]
  },
  {
   "cell_type": "code",
   "execution_count": 7,
   "id": "48daa600-d63e-497d-b066-33fcbc7b3bd8",
   "metadata": {},
   "outputs": [
    {
     "name": "stdout",
     "output_type": "stream",
     "text": [
      "[1, 4, 9, 16, 25]\n"
     ]
    }
   ],
   "source": [
    "#Map Problems\n",
    "#1Explain the purpose of the `map()` function in Python and provide an example of how it can beused to apply a function to each element of an iterable.\n",
    "#The map() function in python is a built-in function in Python and prrovide a speccified function to each item in an iterable such as lists,tuple,or any other iterable i\n",
    "#The primary purpose of map() is to perform transformation or operation on each elemnet\n",
    "#Example\n",
    "def square(x):\n",
    "    return x ** 2\n",
    "numbers = [1,2,3,4,5]\n",
    "squared_numbers = map(square,numbers)\n",
    "squared_numbers_list = list(squared_numbers)\n",
    "print(squared_numbers_list)"
   ]
  },
  {
   "cell_type": "code",
   "execution_count": 9,
   "id": "17230545-5386-4de5-b52b-91d48fc6520a",
   "metadata": {},
   "outputs": [
    {
     "name": "stdout",
     "output_type": "stream",
     "text": [
      "[1, 4, 9, 16, 25]\n"
     ]
    }
   ],
   "source": [
    "#2Write a Python program that uses the `map()` function to square each element of a list of numbers\n",
    "def square(x):\n",
    "    return x ** 2\n",
    "numbers = [1,2,3,4,5]\n",
    "squared_numbers = map(square, numbers)\n",
    "squared_numbers_list = list(squared_numbers)\n",
    "print(squared_numbers_list)"
   ]
  },
  {
   "cell_type": "code",
   "execution_count": 16,
   "id": "468c1cb2-b657-4dae-9197-778c203049a1",
   "metadata": {},
   "outputs": [
    {
     "name": "stdout",
     "output_type": "stream",
     "text": [
      "1\n",
      "2\n",
      "3\n",
      "4\n",
      "5\n"
     ]
    }
   ],
   "source": [
    "#3. How does the `map()` function differ from a list comprehension in Python, and when would you choose one over other\n",
    "#map() is a built-in function that takes two arguments: the function to apply and the iterable to apply it to. It returns a map object, which can be converted to a list or another iterable.\n",
    "#List comprehensions use a concise and more readable syntax to create a new list by specifying the operation to perform on each element of an iterable within square brackets.\n",
    "#map() is generally used when you have a specific function you want to apply to each element of an iterable, especially when the transformation logic is more complex or involves multiple steps. It can be more suitable for functional programming paradigms.\n",
    "#List comprehensions are preferred when the operation is simple, concise, and doesn't require calling a separate function. They are often considered more Pythonic and easier to read for straightforward operations.\n",
    "numbers = [1, 2, 3, 4, 5]\n",
    "\n",
    "for num in numbers:\n",
    "    print(num)\n",
    "\n"
   ]
  },
  {
   "cell_type": "code",
   "execution_count": 17,
   "id": "88e3b49f-6b68-425a-854f-603d54c57ee6",
   "metadata": {},
   "outputs": [
    {
     "name": "stdout",
     "output_type": "stream",
     "text": [
      "BONDAM\n",
      "AFROZ\n"
     ]
    }
   ],
   "source": [
    "#4Create a Python program that uses the `map()` function to convert a list of names to uppercase\n",
    "names= [\"bondam\",\"afroz\"]\n",
    "uppercased_names = map(str.upper,names)\n",
    "uppercased_names_list = list(uppercased_names)\n",
    "for name in uppercased_names_list:\n",
    "    print(name)\n",
    "    "
   ]
  },
  {
   "cell_type": "code",
   "execution_count": 20,
   "id": "333bef5b-d684-41dc-9149-1492a40b06b8",
   "metadata": {},
   "outputs": [
    {
     "name": "stdout",
     "output_type": "stream",
     "text": [
      "2\n",
      "2\n",
      "5\n",
      "2\n"
     ]
    }
   ],
   "source": [
    "#5Write a Python program that uses the `map()` function to calculate the length of each word in alist of strings\n",
    "str =['hi','ji','hello','ji']\n",
    "word_lengths = map(len, str)\n",
    "word_lengths_list = list(word_lengths)\n",
    "for length in word_lengths_list:\n",
    "    print(length)"
   ]
  },
  {
   "cell_type": "code",
   "execution_count": 21,
   "id": "ea3bde18-1c02-4ebc-8b72-e12b98427990",
   "metadata": {},
   "outputs": [
    {
     "name": "stdout",
     "output_type": "stream",
     "text": [
      "[12, 15, 18]\n"
     ]
    }
   ],
   "source": [
    "#6How can you use the `map()` function to apply a custom function to elements of multiple lists simultaneously in Python?\n",
    "def custom_function(x,y,z):\n",
    "    return x+y+z\n",
    "list1=[1,2,3]\n",
    "list2=[4,5,6]\n",
    "list3=[7,8,9]\n",
    "result= list(map(custom_function,list1,list2,list3))\n",
    "print(result)"
   ]
  },
  {
   "cell_type": "code",
   "execution_count": 27,
   "id": "239d70ca-a8a6-4907-89f2-c88b4d5c443f",
   "metadata": {},
   "outputs": [
    {
     "name": "stdout",
     "output_type": "stream",
     "text": [
      "Celsius Temperatures: [0, 25, 100, -10, 30]\n",
      "Fahrenheit Temperatures: [32.0, 77.0, 212.0, 14.0, 86.0]\n"
     ]
    }
   ],
   "source": [
    "#7Create a Python program that uses `map()` to convert a list of temperatures from Celsius toFahrenheit.\n",
    "def celsius_to_fahrenheit(celsius):\n",
    "    return (celsius * 9/5) + 32\n",
    "celsius_temperatures = [0, 25, 100, -10, 30]\n",
    "fahrenheit_temperatures = list(map(celsius_to_fahrenheit, celsius_temperatures))\n",
    "print(\"Celsius Temperatures:\", celsius_temperatures)\n",
    "print(\"Fahrenheit Temperatures:\", fahrenheit_temperatures)\n"
   ]
  },
  {
   "cell_type": "code",
   "execution_count": 29,
   "id": "2849b23f-e9a8-47d5-b5eb-b214862f60c3",
   "metadata": {},
   "outputs": [
    {
     "name": "stdout",
     "output_type": "stream",
     "text": [
      "Original Numbers: [3.14, 2.17, 17.44, 4.9, 2.7]\n",
      "Rounded Numbers: [3, 2, 17, 5, 3]\n"
     ]
    }
   ],
   "source": [
    "#8. Write a Python program that uses the `map()` function to round each element of a list of floating-point numbers to the nearest integer.\n",
    "float_numbers = [3.14,2.17,17.44,4.9,2.7]\n",
    "rounded_integers = list(map(round,float_numbers))\n",
    "print(\"Original Numbers:\",float_numbers)\n",
    "print(\"Rounded Numbers:\",rounded_integers)"
   ]
  },
  {
   "cell_type": "code",
   "execution_count": 1,
   "id": "d26fdc81-3ca6-404d-99c7-eb642cd4f4f9",
   "metadata": {},
   "outputs": [
    {
     "name": "stdout",
     "output_type": "stream",
     "text": [
      "Product of all numbers: 120\n"
     ]
    }
   ],
   "source": [
    "#reduce\n",
    "#1What is the `reduce()` function in Python, and what module should you import to use it? Providean example of its basic usage\n",
    "#The reduce function in python is used for aggregating elements of a sequence\n",
    "from functools import reduce\n",
    "def multiply(x,y):\n",
    "    return x*y\n",
    "numbers=[1,2,3,4,5]\n",
    "result= reduce(multiply,numbers)\n",
    "print('Product of all numbers:',result)"
   ]
  },
  {
   "cell_type": "code",
   "execution_count": 3,
   "id": "03190144-c917-47b2-aa12-f27eb8cf0e9a",
   "metadata": {},
   "outputs": [
    {
     "name": "stdout",
     "output_type": "stream",
     "text": [
      "product of all numbers: 720\n"
     ]
    }
   ],
   "source": [
    "#What is the `reduce()` function in Python, and what module should you import to use it? Providean example of its basic usae\n",
    "from functools import reduce\n",
    "def multiply(x,y):\n",
    "    return x*y\n",
    "numbers=[1,2,3,4,5,6]\n",
    "result=reduce(multiply,numbers)\n",
    "print('product of all numbers:',result)"
   ]
  },
  {
   "cell_type": "code",
   "execution_count": 1,
   "id": "7ba273f4-3155-4d98-9387-159b6f873871",
   "metadata": {},
   "outputs": [
    {
     "name": "stdout",
     "output_type": "stream",
     "text": [
      "maximun element: 8\n"
     ]
    }
   ],
   "source": [
    "#3. Create a Python program that uses `reduce()` to find the maximum element in a list of numbers.\n",
    "from functools import reduce\n",
    "def find_max(x,y):\n",
    "    return x if x > y else y\n",
    "numbers = [1,2,3,4,5,6,7,8]\n",
    "max_number = reduce(find_max,numbers)\n",
    "print(\"maximun element:\",max_number)"
   ]
  },
  {
   "cell_type": "code",
   "execution_count": 6,
   "id": "6df83584-1b6e-4496-9edb-df711564cec1",
   "metadata": {},
   "outputs": [
    {
     "name": "stdout",
     "output_type": "stream",
     "text": [
      "Concatenated string: hello, Bondam this is affU\n"
     ]
    }
   ],
   "source": [
    "#4. How can you use the `reduce()` function to concatenate a list of strings into a single string?\n",
    "from functools import reduce\n",
    "def concatenate_strings(x,y):\n",
    "    return x+y\n",
    "strings = [\"hello, \",\"Bondam \",\"this \",\"is \",\"affU\"]\n",
    "result = reduce(concatenate_strings,strings)\n",
    "print(\"Concatenated string:\",result)"
   ]
  },
  {
   "cell_type": "code",
   "execution_count": 10,
   "id": "8ed8266b-c78c-4a36-96ac-1a756f1eb778",
   "metadata": {},
   "outputs": [
    {
     "name": "stdin",
     "output_type": "stream",
     "text": [
      "Enter a number:  9\n"
     ]
    },
    {
     "name": "stdout",
     "output_type": "stream",
     "text": [
      "Factorial of 9 is 362880\n"
     ]
    }
   ],
   "source": [
    "#5. Write a Python program that calculates the factorial of a number using the `reduce()` function.\n",
    "from functools import reduce\n",
    "def calculate_factorial(x,y):\n",
    "    return x*y\n",
    "number=int(input(\"Enter a number: \"))\n",
    "if number < 0:\n",
    "    print(\"Factorial is not defined for negative numbers.\")\n",
    "else:\n",
    "    numbers = list(range(1, number + 1))\n",
    "    factorial = reduce(calculate_factorial,numbers,1)\n",
    "    print(f\"Factorial of {number} is {factorial}\")"
   ]
  },
  {
   "cell_type": "code",
   "execution_count": 17,
   "id": "5ea64152-fa8c-4e9c-a447-b01b2c8c8e28",
   "metadata": {},
   "outputs": [
    {
     "name": "stdout",
     "output_type": "stream",
     "text": [
      "gcd of the numbers: 10\n"
     ]
    }
   ],
   "source": [
    "#6. Create a Python program that uses `reduce()` to find the GCD (Greatest Common Divisor) of a listof numbers\n",
    "from functools import reduce\n",
    "from math import gcd\n",
    "def find_gcd(x,y):\n",
    "    return gcd(x,y)\n",
    "numbers = [40,50,60,70,80]\n",
    "gcd_result = reduce(find_gcd, numbers)\n",
    "print(\"gcd of the numbers:\",gcd_result)"
   ]
  },
  {
   "cell_type": "code",
   "execution_count": 22,
   "id": "17c539b8-c188-480a-a3e6-a29f68c9f4e5",
   "metadata": {},
   "outputs": [
    {
     "name": "stdin",
     "output_type": "stream",
     "text": [
      "Enter a number:  12345\n"
     ]
    },
    {
     "name": "stdout",
     "output_type": "stream",
     "text": [
      "sum of the digits of 12345 is 15\n"
     ]
    }
   ],
   "source": [
    "#7Write a Python program that uses the `reduce()` function to find the sum of the digits of a givennumber.\n",
    "from functools import reduce\n",
    "def sum_digits(x,y):\n",
    "    return int(x) + int(y)\n",
    "number=int(input(\"Enter a number: \"))\n",
    "number_str= str(number)\n",
    "digit_sum = reduce(sum_digits,number_str,0)\n",
    "print(f\"sum of the digits of {number} is {digit_sum}\")"
   ]
  },
  {
   "cell_type": "code",
   "execution_count": 4,
   "id": "4098130a-90ec-4d58-9281-39f1dc6f3c8a",
   "metadata": {},
   "outputs": [
    {
     "name": "stdin",
     "output_type": "stream",
     "text": [
      "Enter a number 9\n"
     ]
    },
    {
     "name": "stdout",
     "output_type": "stream",
     "text": [
      "The 9 th fibonaccci number is 34\n"
     ]
    }
   ],
   "source": [
    "#Recursion\n",
    "#1. Explain the concept of recursion in Python. How does it differ from iteration?\n",
    "#Recursion in python where a function calls itself in order to solve a probem It's powerful technique that is particularly useful when dealing with problems that can e brokem down into smaller,similar sub-probems\n",
    "#Iteration involves using loops to repeatedly executea  block of code until, such as a loop counter or a conditiional statement\n",
    "def fibonacci(n):\n",
    "    if n==0:\n",
    "        return 0\n",
    "    elif n == 1:\n",
    "        return 1\n",
    "    else:\n",
    "        return fibonacci(n-1)+fibonacci(n - 2)\n",
    "    \n",
    "n = int(input(\"Enter a number\"))\n",
    "result=fibonacci(n)\n",
    "print(f\"The {n} th fibonaccci number is {result}\")"
   ]
  },
  {
   "cell_type": "code",
   "execution_count": 5,
   "id": "c34d226e-7963-4f08-b1a6-ef01a0f37dbc",
   "metadata": {},
   "outputs": [
    {
     "name": "stdin",
     "output_type": "stream",
     "text": [
      "Enter a number 7\n"
     ]
    },
    {
     "name": "stdout",
     "output_type": "stream",
     "text": [
      "The factorial of 7 is 5040\n"
     ]
    }
   ],
   "source": [
    "#2. Write a Python program to calculate the factorial of a number using recursion.\n",
    "\n",
    "def factorial(n):\n",
    "    if n==0 or n==1:\n",
    "        return 1\n",
    "    else:\n",
    "        return n* factorial(n-1)\n",
    "n=int(input(\"Enter a number\"))\n",
    "result = factorial(n)\n",
    "print(f\"The factorial of {n} is {result}\")"
   ]
  },
  {
   "cell_type": "code",
   "execution_count": 6,
   "id": "66bb3258-6365-47ba-be0d-c957f86a5725",
   "metadata": {},
   "outputs": [
    {
     "name": "stdin",
     "output_type": "stream",
     "text": [
      "Enter a number 6\n"
     ]
    },
    {
     "name": "stdout",
     "output_type": "stream",
     "text": [
      "The 6 th fibonaccci number is 8\n"
     ]
    }
   ],
   "source": [
    "#3. Create a recursive Python function to find the nth Fibonacci number.\n",
    "def fibonacci(n):\n",
    "    if n==0:\n",
    "        return 0\n",
    "    elif n == 1:\n",
    "        return 1\n",
    "    else:\n",
    "        return fibonacci(n-1)+fibonacci(n - 2)\n",
    "    \n",
    "n = int(input(\"Enter a number\"))\n",
    "result=fibonacci(n)\n",
    "print(f\"The {n} th fibonaccci number is {result}\")"
   ]
  },
  {
   "cell_type": "code",
   "execution_count": 7,
   "id": "c5cf0827-6e2e-4ef1-8e1c-b001a15d9193",
   "metadata": {},
   "outputs": [
    {
     "name": "stdout",
     "output_type": "stream",
     "text": [
      "The sum of all the elements in the list is 15\n"
     ]
    }
   ],
   "source": [
    "#4. Write a recursive Python function to calculate the sum of all elements in a list.\n",
    "def recursive_list_sum(lst):\n",
    "    if not lst:\n",
    "        return 0\n",
    "    else:\n",
    "        return lst[0]+recursive_list_sum(lst[1:])\n",
    "my_list = [1,2,3,4,5]\n",
    "result = recursive_list_sum(my_list)\n",
    "print(f\"The sum of all the elements in the list is {result}\")"
   ]
  },
  {
   "cell_type": "code",
   "execution_count": 13,
   "id": "b93a69ca-c670-441c-9903-bee376d5bef7",
   "metadata": {},
   "outputs": [
    {
     "name": "stdin",
     "output_type": "stream",
     "text": [
      "Enter a number 9\n"
     ]
    },
    {
     "name": "stdout",
     "output_type": "stream",
     "text": [
      "The factorial of 9 is 362880\n"
     ]
    }
   ],
   "source": [
    "#5How can you prevent a recursive function from running indefinitely, causing a stack overflowerror?\n",
    "#By following these steps \n",
    "#!Define a Termination condition\n",
    "#2 Check the Termination Condition\n",
    "#3 Recursive call\n",
    "def factorial(n):\n",
    "    if n==0 or n==1:\n",
    "        return 1\n",
    "    else:\n",
    "        return n* factorial(n-1)\n",
    "n=int(input(\"Enter a number\"))\n",
    "result = factorial(n)\n",
    "print(f\"The factorial of {n} is {result}\")\n",
    "#In this example the termination condition is when n becomes 0 or 1,at a point which point the function returns 1\n"
   ]
  },
  {
   "cell_type": "code",
   "execution_count": 14,
   "id": "8291de14-7c85-48ba-b3a6-e975656f92fe",
   "metadata": {},
   "outputs": [
    {
     "name": "stdout",
     "output_type": "stream",
     "text": [
      "The gcd of 48 and 18 is 6\n"
     ]
    }
   ],
   "source": [
    "#6Create a recursive Python function to find the greatest common divisor (GCD) of two numbersusing the Euclidean algorithm.\n",
    "def gcd(a,b):\n",
    "    if  b==0:\n",
    "        return a\n",
    "    else:\n",
    "        return gcd(b,a%b)\n",
    "a=48\n",
    "b=18\n",
    "result=gcd(a,b)\n",
    "print(f\"The gcd of {a} and {b} is {result}\")"
   ]
  },
  {
   "cell_type": "code",
   "execution_count": 18,
   "id": "e4d9f87d-202a-4650-9d3c-743a6fee3d58",
   "metadata": {},
   "outputs": [
    {
     "name": "stdin",
     "output_type": "stream",
     "text": [
      "enter a string:  afroz\n"
     ]
    },
    {
     "name": "stdout",
     "output_type": "stream",
     "text": [
      "The reversed string is: zorfa\n"
     ]
    }
   ],
   "source": [
    "#7. Write a recursive Python function to reverse a string.\n",
    "def reverse_string(input_str):\n",
    "    if len(input_str) <=1:\n",
    "        return input_str\n",
    "    else:\n",
    "        return reverse_string(input_str[1:])+input_str[0]\n",
    "input_str=input(\"enter a string: \")\n",
    "reversed_str=reverse_string(input_str)\n",
    "print(f\"The reversed string is: {reversed_str}\")"
   ]
  },
  {
   "cell_type": "code",
   "execution_count": 22,
   "id": "5912c151-a929-4503-ae3f-4f1a4b0d96d2",
   "metadata": {},
   "outputs": [
    {
     "name": "stdout",
     "output_type": "stream",
     "text": [
      "2^5 = 128\n"
     ]
    }
   ],
   "source": [
    "#8. Create a recursive Python function to calculate the power of a number (x^n).\n",
    "def power(x,n):\n",
    "    if n==0:\n",
    "        return 1\n",
    "    else:\n",
    "        result = power(x,n//2)\n",
    "        if n%2 ==0:\n",
    "            return result*result*x\n",
    "        else:\n",
    "            return result*result*x\n",
    "x = 2\n",
    "n = 5\n",
    "result = power(x,n)\n",
    "print(f\"{x}^{n} = {result}\")"
   ]
  },
  {
   "cell_type": "code",
   "execution_count": 26,
   "id": "bea90618-3d9f-421c-b167-7dc70a5acad8",
   "metadata": {},
   "outputs": [
    {
     "name": "stdout",
     "output_type": "stream",
     "text": [
      "Permutations:\n",
      "likki\n",
      "likik\n",
      "likki\n",
      "likik\n",
      "liikk\n",
      "liikk\n",
      "lkiki\n",
      "lkiik\n",
      "lkkii\n",
      "lkkii\n",
      "lkiik\n",
      "lkiki\n",
      "lkiki\n",
      "lkiik\n",
      "lkkii\n",
      "lkkii\n",
      "lkiik\n",
      "lkiki\n",
      "liikk\n",
      "liikk\n",
      "likik\n",
      "likki\n",
      "likik\n",
      "likki\n",
      "ilkki\n",
      "ilkik\n",
      "ilkki\n",
      "ilkik\n",
      "ilikk\n",
      "ilikk\n",
      "iklki\n",
      "iklik\n",
      "ikkli\n",
      "ikkil\n",
      "ikilk\n",
      "ikikl\n",
      "iklki\n",
      "iklik\n",
      "ikkli\n",
      "ikkil\n",
      "ikilk\n",
      "ikikl\n",
      "iilkk\n",
      "iilkk\n",
      "iiklk\n",
      "iikkl\n",
      "iiklk\n",
      "iikkl\n",
      "kliki\n",
      "kliik\n",
      "klkii\n",
      "klkii\n",
      "kliik\n",
      "kliki\n",
      "kilki\n",
      "kilik\n",
      "kikli\n",
      "kikil\n",
      "kiilk\n",
      "kiikl\n",
      "kklii\n",
      "kklii\n",
      "kkili\n",
      "kkiil\n",
      "kkili\n",
      "kkiil\n",
      "kilik\n",
      "kilki\n",
      "kiilk\n",
      "kiikl\n",
      "kikli\n",
      "kikil\n",
      "kliki\n",
      "kliik\n",
      "klkii\n",
      "klkii\n",
      "kliik\n",
      "kliki\n",
      "kilki\n",
      "kilik\n",
      "kikli\n",
      "kikil\n",
      "kiilk\n",
      "kiikl\n",
      "kklii\n",
      "kklii\n",
      "kkili\n",
      "kkiil\n",
      "kkili\n",
      "kkiil\n",
      "kilik\n",
      "kilki\n",
      "kiilk\n",
      "kiikl\n",
      "kikli\n",
      "kikil\n",
      "ilikk\n",
      "ilikk\n",
      "ilkik\n",
      "ilkki\n",
      "ilkik\n",
      "ilkki\n",
      "iilkk\n",
      "iilkk\n",
      "iiklk\n",
      "iikkl\n",
      "iiklk\n",
      "iikkl\n",
      "iklik\n",
      "iklki\n",
      "ikilk\n",
      "ikikl\n",
      "ikkli\n",
      "ikkil\n",
      "iklik\n",
      "iklki\n",
      "ikilk\n",
      "ikikl\n",
      "ikkli\n",
      "ikkil\n"
     ]
    }
   ],
   "source": [
    "#9. Write a recursive Python function to find all permutations of a given string.\n",
    "def get_permutations(input_str):\n",
    "    if len(input_str) <= 1:\n",
    "        return [input_str]\n",
    "\n",
    "    permutations = []\n",
    "\n",
    "    for i in range(len(input_str)):\n",
    "        current_char = input_str[i]\n",
    "\n",
    "        remaining_chars = input_str[:i] + input_str[i + 1:]\n",
    "\n",
    "        sub_permutations = get_permutations(remaining_chars)\n",
    "\n",
    "        \n",
    "        for sub_permutation in sub_permutations:\n",
    "            permutations.append(current_char + sub_permutation)\n",
    "\n",
    "    return permutations\n",
    "\n",
    "\n",
    "input_str = \"likki\"\n",
    "permutations = get_permutations(input_str)\n",
    "print(\"Permutations:\")\n",
    "for perm in permutations:\n",
    "    print(perm)\n"
   ]
  },
  {
   "cell_type": "code",
   "execution_count": 34,
   "id": "52a762b4-1fc0-4eae-af9c-ff71927b869b",
   "metadata": {},
   "outputs": [
    {
     "name": "stdin",
     "output_type": "stream",
     "text": [
      "Enter a string racecar\n"
     ]
    },
    {
     "name": "stdout",
     "output_type": "stream",
     "text": [
      "racecar is a palindrome.\n"
     ]
    }
   ],
   "source": [
    "#10. Write a recursive Python function to check if a string is a palindrome.\n",
    "def is_palindrome(input_str):\n",
    "    if len(input_str) <= 1:\n",
    "        return True\n",
    "    else:\n",
    "        first_char = input_str[0]\n",
    "        last_char = input_str[-1]\n",
    "\n",
    "        if first_char != last_char:\n",
    "            return False\n",
    "        else:\n",
    "            return is_palindrome(input_str[1:-1])\n",
    "\n",
    "input_str = input(\"Enter a string\")\n",
    "result = is_palindrome(input_str)\n",
    "if result:\n",
    "    print(f\"{input_str} is a palindrome.\")\n",
    "else:\n",
    "    print(f\"{input_str} is not a palindrome.\")\n"
   ]
  },
  {
   "cell_type": "code",
   "execution_count": 35,
   "id": "b3cec63b-52ed-4d1e-9bd1-f047daf12b9c",
   "metadata": {},
   "outputs": [
    {
     "name": "stdout",
     "output_type": "stream",
     "text": [
      "Combinations:\n",
      "[1, 2, 3]\n",
      "[1, 2]\n",
      "[1, 3]\n",
      "[1]\n",
      "[2, 3]\n",
      "[2]\n",
      "[3]\n",
      "[]\n"
     ]
    }
   ],
   "source": [
    "#11. Create a recursive Python function to generate all possible combinations of a list of elements.\n",
    "def generate_combinations(elements):\n",
    "    def helper(index, current_combination):\n",
    "        if index == len(elements):\n",
    "            combinations.append(current_combination)\n",
    "        else:\n",
    "            helper(index + 1, current_combination + [elements[index]])\n",
    "            helper(index + 1, current_combination)\n",
    "\n",
    "    combinations = []\n",
    "\n",
    "    helper(0, [])\n",
    "\n",
    "    return combinations\n",
    "\n",
    "elements = [1, 2, 3]\n",
    "combinations = generate_combinations(elements)\n",
    "print(\"Combinations:\")\n",
    "for combo in combinations:\n",
    "    print(combo)\n"
   ]
  },
  {
   "cell_type": "code",
   "execution_count": 1,
   "id": "6c4e9bb1-c0a5-472d-8284-e6bce964d1a1",
   "metadata": {},
   "outputs": [
    {
     "data": {
      "text/plain": [
       "<function __main__.<lambda>(arguments)>"
      ]
     },
     "execution_count": 1,
     "metadata": {},
     "output_type": "execute_result"
    }
   ],
   "source": [
    "#Lambda Problems\n",
    "#1. What are lambda functions in Python, and when are they typically used?\n",
    "#Lambda functions in Python are small, anonymous (unnamed) functions defined using the lambda keyword. They are also known as \"lambda expressions.\" Lambda functions are typically used when you need a simple, one-line function for a short period of time and don't want to go through the process of defining a full-fledged function using the def keyword.\n",
    "#The syntax of a lambda function is as follows:\n",
    "lambda arguments : expression\n",
    "\n"
   ]
  },
  {
   "cell_type": "code",
   "execution_count": 2,
   "id": "a22cc563-02aa-4f2f-a68a-8e69d07e8941",
   "metadata": {},
   "outputs": [
    {
     "name": "stdout",
     "output_type": "stream",
     "text": [
      "[(1, 4), (4, 6), (2, 8), (5, 10), (3, 12)]\n"
     ]
    }
   ],
   "source": [
    "#2 Write a Python program that uses lambda functions to sort a list of tuples based on the secondelement.\n",
    "data = [(3,12),(1,4),(2,8),(4,6),(5,10)]\n",
    "sorted_data = sorted(data, key=lambda x: x[1])\n",
    "print(sorted_data)"
   ]
  },
  {
   "cell_type": "code",
   "execution_count": 3,
   "id": "1c211c8d-a23a-431c-bfba-ecdd4ad7bede",
   "metadata": {},
   "outputs": [
    {
     "name": "stdout",
     "output_type": "stream",
     "text": [
      "[1, 4, 9, 16, 25]\n"
     ]
    }
   ],
   "source": [
    "#3. Explain the concept of higher-order functions in Python, and provide an example.\n",
    "#In Python, higher-order functions are functions that can take other functions as arguments or return functions as results. In other words, they treat functions as first-class citizens, allowing you to work with functions in a more flexible and powerful way. Higher-order functions are a fundamental concept in functional programming \n",
    "#and enable you to write more concise and modular code.\n",
    "#Functions that take other functions as arguments: These functions are often used to apply an operation or transformation to a collection of data. Examples include map, filter, and reduce.\n",
    "#Functions that return functions as results: These functions are used to create and customize other functions. Examples include factory functions and decorators.\n",
    "def square(x):\n",
    "    return x ** 2\n",
    "numbers = [1,2,3,4,5]\n",
    "squared_numbers = list(map(square,numbers))\n",
    "print(squared_numbers)"
   ]
  },
  {
   "cell_type": "code",
   "execution_count": null,
   "id": "30090500-77ac-4f4e-98d8-846945ff3812",
   "metadata": {},
   "outputs": [],
   "source": [
    "#4Create a Python function that takes a list of numbers and a function as arguments, applying thefunction to each element in the list.\n",
    "def apply_funcntion_to_list(numbers,func):\n",
    "    result = list(map(func, numbers))\n",
    "    return result\n",
    "num"
   ]
  }
 ],
 "metadata": {
  "kernelspec": {
   "display_name": "Python 3 (ipykernel)",
   "language": "python",
   "name": "python3"
  },
  "language_info": {
   "codemirror_mode": {
    "name": "ipython",
    "version": 3
   },
   "file_extension": ".py",
   "mimetype": "text/x-python",
   "name": "python",
   "nbconvert_exporter": "python",
   "pygments_lexer": "ipython3",
   "version": "3.10.8"
  }
 },
 "nbformat": 4,
 "nbformat_minor": 5
}
